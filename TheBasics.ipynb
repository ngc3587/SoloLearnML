{
  "nbformat": 4,
  "nbformat_minor": 0,
  "metadata": {
    "colab": {
      "name": "TheBasics",
      "provenance": [],
      "collapsed_sections": [],
      "authorship_tag": "ABX9TyNRJMoIdwpRPJ6ZyokDNt/0",
      "include_colab_link": true
    },
    "kernelspec": {
      "name": "python3",
      "display_name": "Python 3"
    }
  },
  "cells": [
    {
      "cell_type": "markdown",
      "metadata": {
        "id": "view-in-github",
        "colab_type": "text"
      },
      "source": [
        "<a href=\"https://colab.research.google.com/github/ngc3587/SoloLearnML/blob/master/TheBasics.ipynb\" target=\"_parent\"><img src=\"https://colab.research.google.com/assets/colab-badge.svg\" alt=\"Open In Colab\"/></a>"
      ]
    },
    {
      "cell_type": "code",
      "metadata": {
        "id": "OZnpNypDi7zG",
        "colab_type": "code",
        "colab": {}
      },
      "source": [
        "import pandas as pd\n",
        "import matplotlib.pyplot as plt"
      ],
      "execution_count": 64,
      "outputs": []
    },
    {
      "cell_type": "code",
      "metadata": {
        "id": "sjKVLoUjoOMf",
        "colab_type": "code",
        "colab": {
          "base_uri": "https://localhost:8080/",
          "height": 125
        },
        "outputId": "d16b588f-c0c0-43a9-fdb4-fff424ddd62d"
      },
      "source": [
        "df = pd.read_csv('https://sololearn.com/uploads/files/titanic.csv')\n",
        "print(df.head())"
      ],
      "execution_count": 96,
      "outputs": [
        {
          "output_type": "stream",
          "text": [
            "   Survived  Pclass     Sex   Age  Siblings/Spouses  Parents/Children     Fare\n",
            "0         0       3    male  22.0                 1                 0   7.2500\n",
            "1         1       1  female  38.0                 1                 0  71.2833\n",
            "2         1       3  female  26.0                 0                 0   7.9250\n",
            "3         1       1  female  35.0                 1                 0  53.1000\n",
            "4         0       3    male  35.0                 0                 0   8.0500\n"
          ],
          "name": "stdout"
        }
      ]
    },
    {
      "cell_type": "code",
      "metadata": {
        "id": "0BtFtyKcx7ei",
        "colab_type": "code",
        "colab": {}
      },
      "source": [
        "print(df.describe())\n",
        "print('\\n',df.columns)"
      ],
      "execution_count": null,
      "outputs": []
    },
    {
      "cell_type": "code",
      "metadata": {
        "id": "CBZzm_3RzqWZ",
        "colab_type": "code",
        "colab": {}
      },
      "source": [
        "print(df[['Age']].describe())"
      ],
      "execution_count": null,
      "outputs": []
    },
    {
      "cell_type": "code",
      "metadata": {
        "id": "TcpQ9lhZzynx",
        "colab_type": "code",
        "colab": {}
      },
      "source": [
        "print(type(df))\n",
        "print(type(df['Age']))\n",
        "print(type(df[['Age']]))"
      ],
      "execution_count": null,
      "outputs": []
    },
    {
      "cell_type": "code",
      "metadata": {
        "id": "hk9csWG52B0J",
        "colab_type": "code",
        "colab": {}
      },
      "source": [
        "print(df['Age'].values.shape)"
      ],
      "execution_count": null,
      "outputs": []
    },
    {
      "cell_type": "code",
      "metadata": {
        "id": "brj9uUUm89Q2",
        "colab_type": "code",
        "colab": {}
      },
      "source": [
        "print(df[['Age']].values.shape)"
      ],
      "execution_count": null,
      "outputs": []
    },
    {
      "cell_type": "code",
      "metadata": {
        "id": "C9Mzyc149Cpm",
        "colab_type": "code",
        "colab": {}
      },
      "source": [
        "print(df[['Survived', 'Pclass']].values.shape)"
      ],
      "execution_count": null,
      "outputs": []
    },
    {
      "cell_type": "code",
      "metadata": {
        "id": "ZOxwMtY4-ErF",
        "colab_type": "code",
        "colab": {}
      },
      "source": [
        "print(df[df['Survived'] == 1].describe())\n",
        "print()\n",
        "print(df[df['Survived'] == 0].describe())"
      ],
      "execution_count": null,
      "outputs": []
    },
    {
      "cell_type": "code",
      "metadata": {
        "id": "x75GsrzDLcSk",
        "colab_type": "code",
        "colab": {}
      },
      "source": [
        "df['WastedLifetime'] = (80 - df['Age'])*(1-df['Survived'])"
      ],
      "execution_count": 112,
      "outputs": []
    },
    {
      "cell_type": "code",
      "metadata": {
        "id": "aAh05VH2PDkA",
        "colab_type": "code",
        "colab": {
          "base_uri": "https://localhost:8080/",
          "height": 233
        },
        "outputId": "21af4a64-1ede-4c6f-cc67-4a1098086466"
      },
      "source": [
        "print(df['WastedLifetime'])"
      ],
      "execution_count": 113,
      "outputs": [
        {
          "output_type": "stream",
          "text": [
            "0      58.0\n",
            "1       0.0\n",
            "2       0.0\n",
            "3       0.0\n",
            "4      45.0\n",
            "       ... \n",
            "882    53.0\n",
            "883     0.0\n",
            "884    73.0\n",
            "885     0.0\n",
            "886    48.0\n",
            "Name: WastedLifetime, Length: 887, dtype: float64\n"
          ],
          "name": "stdout"
        }
      ]
    },
    {
      "cell_type": "code",
      "metadata": {
        "id": "OG3CeXxnCfMM",
        "colab_type": "code",
        "colab": {
          "base_uri": "https://localhost:8080/",
          "height": 378
        },
        "outputId": "75b44398-dd3d-4fbe-9e70-41a9f4261cc9"
      },
      "source": [
        "with plt.rc_context({'xtick.color':'white', 'ytick.color':'white',\n",
        "                     'figure.figsize':(14,6), 'font.size':14}):\n",
        "    #plt.scatter(df['Age'], df['Fare'], s = 14)\n",
        "    plt.scatter(df['WastedLifetime'], df['Fare'], s = 14)"
      ],
      "execution_count": 140,
      "outputs": [
        {
          "output_type": "display_data",
          "data": {
            "image/png": "[encoded data removed]",
            "text/plain": [
              "<Figure size 1008x432 with 1 Axes>"
            ]
          },
          "metadata": {
            "tags": [],
            "needs_background": "dark"
          }
        }
      ]
    },
    {
      "cell_type": "code",
      "metadata": {
        "id": "FcvHMBPtGDEC",
        "colab_type": "code",
        "colab": {}
      },
      "source": [
        ""
      ],
      "execution_count": null,
      "outputs": []
    }
  ]
}